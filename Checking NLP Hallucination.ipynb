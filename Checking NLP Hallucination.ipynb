{
 "cells": [
  {
   "cell_type": "code",
   "execution_count": 9,
   "id": "e2ddaa6f-3026-4889-9944-5a2507d10167",
   "metadata": {},
   "outputs": [
    {
     "name": "stdout",
     "output_type": "stream",
     "text": [
      "* Running on local URL:  http://127.0.0.1:7860\n",
      "* To create a public link, set `share=True` in `launch()`.\n"
     ]
    },
    {
     "data": {
      "text/html": [
       "<div><iframe src=\"http://127.0.0.1:7860/\" width=\"100%\" height=\"500\" allow=\"autoplay; camera; microphone; clipboard-read; clipboard-write;\" frameborder=\"0\" allowfullscreen></iframe></div>"
      ],
      "text/plain": [
       "<IPython.core.display.HTML object>"
      ]
     },
     "metadata": {},
     "output_type": "display_data"
    }
   ],
   "source": [
    "import wikipedia\n",
    "import spacy\n",
    "import re\n",
    "import gradio as gr\n",
    "\n",
    "# Load spaCy model\n",
    "nlp = spacy.load(\"en_core_web_sm\")\n",
    "\n",
    "def extract_entities(text):\n",
    "    \"\"\"\n",
    "    Extract named entities using spaCy NLP.\n",
    "    \"\"\"\n",
    "    doc = nlp(text)\n",
    "    return [ent.text for ent in doc.ents]\n",
    "\n",
    "def wikipedia_fact_check(sentence):\n",
    "    \"\"\"\n",
    "    For a given sentence, extract entities and verify existence in Wikipedia.\n",
    "    \"\"\"\n",
    "    entities = extract_entities(sentence)\n",
    "    if not entities:\n",
    "        return \"⚠️ No verifiable facts found in this sentence.\"\n",
    "\n",
    "    for entity in entities:\n",
    "        try:\n",
    "            search_results = wikipedia.search(entity, results=2)\n",
    "            if not search_results:\n",
    "                return f\"⚠️ Entity '{entity}' not found → Possible hallucination\"\n",
    "        except Exception as e:\n",
    "            return f\"❌ Error: {e}\"\n",
    "    \n",
    "    return \"✔️ All named entities found → Likely factual\"\n",
    "\n",
    "def analyze_text(text):\n",
    "    \"\"\"\n",
    "    Main analysis function: splits input text into sentences,\n",
    "    checks each sentence via Wikipedia, and returns the result.\n",
    "    \"\"\"\n",
    "    sentences = re.split(r'(?<=[.!?]) +', text)\n",
    "    output = []\n",
    "\n",
    "    for i, sentence in enumerate(sentences):\n",
    "        if not sentence.strip():\n",
    "            continue\n",
    "        result = wikipedia_fact_check(sentence)\n",
    "        output.append(f\"Sentence {i+1}: {sentence.strip()}\\n→ {result}\")\n",
    "\n",
    "    return \"\\n\\n\".join(output)\n",
    "\n",
    "# Gradio interface\n",
    "interface = gr.Interface(\n",
    "    fn=analyze_text,\n",
    "    inputs=gr.Textbox(lines=10, placeholder=\"Paste LLM output here...\"),\n",
    "    outputs=\"text\",\n",
    "    title=\"🧠 Hallucination Checker for LLM Output\",\n",
    "    description=\"This tool analyzes each sentence using Wikipedia and highlights potential hallucinations based on named entity verification.\",\n",
    ")\n",
    "\n",
    "if __name__ == \"__main__\":\n",
    "    interface.launch()\n"
   ]
  }
 ],
 "metadata": {
  "kernelspec": {
   "display_name": "Python [conda env:base] *",
   "language": "python",
   "name": "conda-base-py"
  },
  "language_info": {
   "codemirror_mode": {
    "name": "ipython",
    "version": 3
   },
   "file_extension": ".py",
   "mimetype": "text/x-python",
   "name": "python",
   "nbconvert_exporter": "python",
   "pygments_lexer": "ipython3",
   "version": "3.12.7"
  }
 },
 "nbformat": 4,
 "nbformat_minor": 5
}
